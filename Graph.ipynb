{
 "cells": [
  {
   "cell_type": "code",
   "execution_count": 1,
   "id": "e8cec0f0",
   "metadata": {},
   "outputs": [
    {
     "name": "stdout",
     "output_type": "stream",
     "text": [
      "Requirement already satisfied: neo4j in ./anaconda3/lib/python3.11/site-packages (5.14.1)\r\n",
      "Requirement already satisfied: pytz in ./anaconda3/lib/python3.11/site-packages (from neo4j) (2022.7)\r\n"
     ]
    }
   ],
   "source": [
    "!pip install neo4j"
   ]
  },
  {
   "cell_type": "code",
   "execution_count": 2,
   "id": "d898d20d",
   "metadata": {},
   "outputs": [],
   "source": [
    "from neo4j import GraphDatabase\n",
    "import csv\n",
    "\n",
    "class KnowledgeGraphBuilder:\n",
    "    def __init__(self, uri, user, password):\n",
    "        self._driver = GraphDatabase.driver(uri, auth=(user, password))\n",
    "\n",
    "    def close(self):\n",
    "        self._driver.close()\n",
    "\n",
    "    def create_relationship(self, session, relationship_type, start_id, end_id, bidirectional=True):\n",
    "        query = (\n",
    "            f'MERGE (s:Company {{id: \"{start_id}\"}})'\n",
    "            f'MERGE (o:Company {{id: \"{end_id}\"}})'\n",
    "            f'MERGE (s)-[:{relationship_type}]->(o)'\n",
    "        )\n",
    "        if bidirectional:\n",
    "            query += f'MERGE (o)-[:{relationship_type}]->(s)'\n",
    "        session.run(query)\n",
    "\n",
    "    def create_knowledge_graph(self):\n",
    "        with self._driver.session() as session:\n",
    "            # Read data from CSV files and create relationships\n",
    "            csv_files = [\n",
    "                \"hidy.relationships.supply.csv\",\n",
    "                \"hidy.relationships.same_industry.csv\",\n",
    "                \"hidy.relationships.invest.csv\",\n",
    "                \"hidy.relationships.dispute.csv\",\n",
    "                \"hidy.relationships.cooperate.csv\",\n",
    "                \"hidy.relationships.compete.csv\",\n",
    "            ]\n",
    "\n",
    "            for file in csv_files:\n",
    "                relationship_type = file.split(\".\")[2]\n",
    "                with open(f\"/Users/wufei/Downloads/dsaa5002_project/KnowledgeGraph/{file}\", \"r\", encoding=\"utf-8\") as csvfile:\n",
    "                    csv_reader = csv.reader(csvfile)\n",
    "                    next(csv_reader)  # Skip header row\n",
    "                    for row in csv_reader:\n",
    "                        # Set bidirectional to False for \"invest\" and \"supply\"\n",
    "                        bidirectional = relationship_type not in [\"invest\", \"supply\"]\n",
    "                        self.create_relationship(\n",
    "                            session, relationship_type, row[0], row[1], bidirectional=bidirectional\n",
    "                        )\n",
    "\n",
    "if __name__ == \"__main__\":\n",
    "    uri = \"bolt://localhost:7687\"  # Your Neo4j connection URI\n",
    "    user = \"neo4j\"\n",
    "    password = \"lei'sproject\"\n",
    "\n",
    "    builder = KnowledgeGraphBuilder(uri, user, password)\n",
    "    builder.create_knowledge_graph()\n",
    "    builder.close()\n"
   ]
  },
  {
   "cell_type": "code",
   "execution_count": null,
   "id": "4e6cc9a1",
   "metadata": {},
   "outputs": [],
   "source": []
  }
 ],
 "metadata": {
  "kernelspec": {
   "display_name": "Python 3 (ipykernel)",
   "language": "python",
   "name": "python3"
  },
  "language_info": {
   "codemirror_mode": {
    "name": "ipython",
    "version": 3
   },
   "file_extension": ".py",
   "mimetype": "text/x-python",
   "name": "python",
   "nbconvert_exporter": "python",
   "pygments_lexer": "ipython3",
   "version": "3.11.4"
  }
 },
 "nbformat": 4,
 "nbformat_minor": 5
}
